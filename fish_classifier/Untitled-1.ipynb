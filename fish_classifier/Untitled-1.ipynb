{
 "cells": [
  {
   "cell_type": "markdown",
   "metadata": {},
   "source": [
    "### Fish classifier\n",
    "\n",
    "Author: Łukasz Szarecki \n",
    "\n",
    "Dataset: https://www.kaggle.com/aungpyaeap/fish-market"
   ]
  },
  {
   "cell_type": "markdown",
   "metadata": {},
   "source": [
    "1. Uploading data to pandas dataframes"
   ]
  },
  {
   "cell_type": "code",
   "execution_count": 576,
   "metadata": {},
   "outputs": [
    {
     "name": "stdout",
     "output_type": "stream",
     "text": [
      "  Species  Weight  Length1  Length2  Length3   Height   Width\n",
      "0   Bream   242.0     23.2     25.4     30.0  11.5200  4.0200\n",
      "1   Bream   290.0     24.0     26.3     31.2  12.4800  4.3056\n",
      "2   Bream   340.0     23.9     26.5     31.1  12.3778  4.6961\n",
      "3   Bream   363.0     26.3     29.0     33.5  12.7300  4.4555\n",
      "4   Bream   430.0     26.5     29.0     34.0  12.4440  5.1340\n"
     ]
    }
   ],
   "source": [
    "import pandas as pd\n",
    "import numpy as np\n",
    "fish_df = pd.read_csv(\"Fish.csv\")\n",
    "print(fish_df.head())"
   ]
  },
  {
   "cell_type": "markdown",
   "metadata": {},
   "source": [
    "2. We have to mix data because there are sorted.\n",
    "3. Preapering training and testing data."
   ]
  },
  {
   "cell_type": "code",
   "execution_count": 577,
   "metadata": {},
   "outputs": [
    {
     "name": "stdout",
     "output_type": "stream",
     "text": [
      "  Species  Weight  Length1  Length2  Length3  Height   Width\n",
      "0   Smelt    19.9     13.8     15.0     16.2  2.9322  1.8792\n",
      "1   Perch   100.0     16.2     18.0     19.2  5.2224  3.3216\n",
      "2   Smelt    10.0     11.3     11.8     13.1  2.2139  1.2838\n",
      "3   Perch   265.0     25.4     27.5     28.9  7.0516  4.3350\n",
      "4  Parkki   170.0     19.0     20.7     23.2  9.3960  3.4104\n",
      "There are 159 samples\n"
     ]
    }
   ],
   "source": [
    "#sorting dataset\n",
    "fish_df = fish_df.sample(frac=1)\n",
    "#corect indexing\n",
    "fish_df = fish_df.reset_index(drop=True)\n",
    "print(fish_df.head())\n",
    "print(f'There are {len(fish_df)} samples')"
   ]
  },
  {
   "cell_type": "markdown",
   "metadata": {},
   "source": [
    "3. Input and output data"
   ]
  },
  {
   "cell_type": "code",
   "execution_count": 578,
   "metadata": {},
   "outputs": [
    {
     "name": "stdout",
     "output_type": "stream",
     "text": [
      "(159, 6)\n",
      "(159,)\n"
     ]
    }
   ],
   "source": [
    "#input\n",
    "X = np.array(fish_df.iloc[:, 1::])\n",
    "print(X.shape)\n",
    "#output\n",
    "Y = (fish_df.iloc[:,0])\n",
    "print(Y.shape)"
   ]
  },
  {
   "cell_type": "markdown",
   "metadata": {},
   "source": [
    "### Encoder class\n",
    "\n",
    "3. Each fish will have its own identifier\n",
    "* fit() - create connection between identifiers and fish names\n",
    "* transform() - fish name (str) to id (int)\n",
    "* inverse_transform() - id (int) to fish name (str)"
   ]
  },
  {
   "cell_type": "code",
   "execution_count": 579,
   "metadata": {},
   "outputs": [],
   "source": [
    "class Encoder:\n",
    "    def __init__(self):\n",
    "        self.names = [] #to not store duplicated names\n",
    "        self.num_classes = 0 #number of all classes\n",
    "    def fit(self, y):\n",
    "        for sample in y:\n",
    "            if sample not in self.names:\n",
    "                self.names.append(sample)\n",
    "        self.num_classes = len(self.names)\n",
    "    def transform(self, y):\n",
    "        encoded_samples = np.zeros(len(y))\n",
    "        for index,sample in enumerate(y):\n",
    "            encoded_samples[index] = self.names.index(sample)\n",
    "        return encoded_samples\n",
    "    def inverse_transform(self, encoded_y):\n",
    "        samples = []\n",
    "        for sample in encoded_y:\n",
    "            samples.append(self.names[int(sample)])\n",
    "        return samples"
   ]
  },
  {
   "cell_type": "code",
   "execution_count": 580,
   "metadata": {},
   "outputs": [
    {
     "name": "stdout",
     "output_type": "stream",
     "text": [
      "['Smelt', 'Perch', 'Parkki', 'Pike', 'Bream', 'Whitefish', 'Roach']\n",
      "7\n",
      "['Pike', 'Smelt', 'Perch', 'Pike', 'Pike', 'Bream', 'Bream', 'Roach']\n",
      "['Pike', 'Smelt', 'Perch', 'Pike', 'Pike', 'Bream', 'Bream', 'Roach']\n"
     ]
    }
   ],
   "source": [
    "#tests\n",
    "encoder = Encoder()\n",
    "encoder.fit(Y)\n",
    "print(encoder.names)\n",
    "print(encoder.num_classes) \n",
    "\n",
    "test_list = ['Pike', 'Smelt', 'Perch', 'Pike', 'Pike', 'Bream', 'Bream', 'Roach']\n",
    "encoded_num_test = encoder.transform(test_list)\n",
    "print(test_list)\n",
    "print(encoder.inverse_transform(encoded_num_test))"
   ]
  },
  {
   "cell_type": "markdown",
   "metadata": {},
   "source": [
    "3. Encoding dataset "
   ]
  },
  {
   "cell_type": "code",
   "execution_count": 581,
   "metadata": {},
   "outputs": [],
   "source": [
    "encoder = Encoder()\n",
    "encoder.fit(Y)\n",
    "encoded_y = encoder.transform(Y)\n",
    "# print(encoded_y)"
   ]
  },
  {
   "cell_type": "markdown",
   "metadata": {},
   "source": [
    "### Feature Scaling - Normalization\n",
    "\n",
    "* test fraction - percentage of test data\n",
    "* xte - test data\n",
    "* xtr - training data\n",
    "\n",
    "xtr ->\n",
    "* mean = 0\n",
    "* standard deviation = 1"
   ]
  },
  {
   "cell_type": "code",
   "execution_count": 582,
   "metadata": {},
   "outputs": [],
   "source": [
    "class Dataset:\n",
    "    def __init__(self, x,y,test_fraction=0.05):\n",
    "        test_samples = int(test_fraction * y.size)\n",
    "        self.xte = x[:test_samples,:]   \n",
    "        self.xtr = x[test_samples:,:]   \n",
    "        self.yte = y[:test_samples]   \n",
    "        self.ytr = y[test_samples:]\n",
    "        self.mean = np.mean(self.xtr, axis=0)\n",
    "        self.std = np.std(self.xtr, axis=0)#standard deviation\n",
    "        self.xtr = self.normalize(self.xtr)\n",
    "        self.xte = self.normalize(self.xte)\n",
    "\n",
    "    def normalize(self, x):\n",
    "        x_temp = (x - self.mean)/self.std\n",
    "        return x_temp\n",
    "\n",
    "# creating dataset        \n",
    "fish_ds = Dataset(X,encoded_y,0.20)\n",
    "# fish_ds.xte \n"
   ]
  },
  {
   "cell_type": "markdown",
   "metadata": {},
   "source": [
    "### Classifiers models\n",
    "\n",
    "- Random Classifier\n",
    "- KNN - K - Nearest Neighbors Algorithm\n",
    "- Linear Regression Model "
   ]
  },
  {
   "cell_type": "code",
   "execution_count": 583,
   "metadata": {},
   "outputs": [],
   "source": [
    "class Classfier:\n",
    "    def __init__(self):\n",
    "        pass\n",
    "    def fit(self, xtr, ytr):\n",
    "        pass\n",
    "    def predict(self, x):\n",
    "        pass\n",
    "    def evaluate(self, xte, yte):\n",
    "        ypred = self.predict(xte)\n",
    "        print(yte.astype(int))\n",
    "        print(ypred)\n",
    "        acc = np.sum(ypred == yte) / yte.size #Accuracy\n",
    "        return acc\n",
    "\n",
    "# Baseline (method)\n",
    "class RandomClassifier(Classfier):\n",
    "    #expected accuracy = 1/7\n",
    "    def fit(self, xtr, ytr):\n",
    "        self.num_classes = int(np.max(ytr) + 1)\n",
    "    def predict(self, x):\n",
    "        return np.random.choice(self.num_classes, x.shape[0])\n",
    "\n",
    "class KNNClassifier(Classfier):\n",
    "    def __init__(self, k=3):   #hyperparameters\n",
    "        self.k = k\n",
    "    def fit(self, xtr, ytr):\n",
    "        self.xtr = xtr\n",
    "        self.ytr = ytr\n",
    "    def predict(self, x):\n",
    "        num_samples =  x.shape[0]\n",
    "        ypred = np.zeros(num_samples, dtype=int)\n",
    "        for i in range(num_samples):\n",
    "            distance = np.sum((self.xtr - x[i, :])**2, axis=1)\n",
    "            order = np.argsort(distance)\n",
    "            knn_label = self.ytr[order][:self.k].astype(int)\n",
    "            # print(f'knn labels {knn_label}')\n",
    "            binc = np.bincount(knn_label)\n",
    "            # print(f'Bin count {binc}')\n",
    "            # print(f'Y pred {binc.argmax()}')\n",
    "            ypred[i] = binc.argmax()    #argument which store max value\n",
    "        return ypred    \n",
    "        \n",
    "class LNRClassifier(Classfier):\n",
    "    def __init__ (self, num_inputs, num_classes, lr = 0.001):\n",
    "        self.W = np.random.randn(num_inputs, num_classes)/num_inputs\n",
    "        self.b = np.zeros(num_classes)\n",
    "        self.num_classes = num_classes\n",
    "        self.lr = lr\n",
    "    def fit(self, xtr, ytr, num_epochs=1):\n",
    "        for e in range(num_epochs):\n",
    "            z = np.dot(xtr, self.W) + self.b\n",
    "            ypred = self._softmax(z)\n",
    "            loss = self._cross_entropy_loss(ypred, ytr)\n",
    "            if e%10 == 9:\n",
    "                print(f'Epoch: {e+1}, loss: {loss:.3}, acc: {self._acc(ytr,ypred):.3}')\n",
    "            dz = ypred - self._one_hot(ytr)\n",
    "            dW = np.dot(xtr.T, dz)\n",
    "            db = np.sum(dz, axis=0)\n",
    "            self.W -= dW * self.lr\n",
    "            self.b -= db * self.lr\n",
    "    def _softmax(self, z):\n",
    "        max_z = np.max(z, axis=1, keepdims=True)\n",
    "        return np.exp(z - max_z) / np.sum(np.exp(z - max_z), axis=1, keepdims=True)\n",
    "    def _cross_entropy_loss(self, ypred, ytr):\n",
    "        ytr_one_hot = self._one_hot(ytr)\n",
    "        return np.mean(-ytr_one_hot * np.log(ypred))\n",
    "    def _one_hot(self, ytr):\n",
    "        ytr_one_hot = np.zeros((ytr.size, self.num_classes))\n",
    "        ytr_one_hot[np.arange(ytr.size), ytr.astype(int)] = 1\n",
    "        return ytr_one_hot\n",
    "    def _acc(self, ytr, ypred):\n",
    "        ypred = np.argmax(ypred, axis=1)\n",
    "        return np.mean(ytr == ypred)\n",
    "    def predict(self, x):\n",
    "        z = np.dot(x, self.W) + self.b\n",
    "        ypred = self._softmax(z)\n",
    "        ypred = np.argmax(ypred, axis=1)\n",
    "        return ypred\n",
    "\n",
    "\n",
    "\n",
    "        "
   ]
  },
  {
   "cell_type": "code",
   "execution_count": 584,
   "metadata": {},
   "outputs": [
    {
     "name": "stdout",
     "output_type": "stream",
     "text": [
      "[0 1 0 1 2 3 4 1 3 5 1 6 6 4 1 2 4 2 2 1 1 3 4 0 1 1 4 6 1 4 4]\n",
      "[4 4 4 1 1 6 5 1 3 2 6 4 2 5 0 6 6 2 3 3 3 0 1 1 3 5 3 5 5 5 2]\n",
      "Random classifier accuracy\n",
      " 0.12903225806451613\n",
      "[0 1 0 1 2 3 4 1 3 5 1 6 6 4 1 2 4 2 2 1 1 3 4 0 1 1 4 6 1 4 4]\n",
      "[1 1 0 1 2 3 4 1 3 1 6 1 1 4 1 2 4 2 1 1 1 3 4 0 1 1 4 1 1 4 4]\n",
      "KNN classifier accuracy\n",
      " 0.7741935483870968\n",
      "Epoch: 10, loss: 0.229, acc: 0.43\n",
      "Epoch: 20, loss: 0.201, acc: 0.523\n",
      "Epoch: 30, loss: 0.183, acc: 0.547\n",
      "Epoch: 40, loss: 0.17, acc: 0.594\n",
      "Epoch: 50, loss: 0.16, acc: 0.641\n",
      "Epoch: 60, loss: 0.152, acc: 0.672\n",
      "Epoch: 70, loss: 0.145, acc: 0.711\n",
      "Epoch: 80, loss: 0.14, acc: 0.719\n",
      "Epoch: 90, loss: 0.135, acc: 0.727\n",
      "Epoch: 100, loss: 0.131, acc: 0.727\n",
      "Epoch: 110, loss: 0.128, acc: 0.727\n",
      "Epoch: 120, loss: 0.124, acc: 0.727\n",
      "Epoch: 130, loss: 0.122, acc: 0.734\n",
      "Epoch: 140, loss: 0.119, acc: 0.742\n",
      "Epoch: 150, loss: 0.117, acc: 0.758\n",
      "Epoch: 160, loss: 0.115, acc: 0.758\n",
      "Epoch: 170, loss: 0.113, acc: 0.758\n",
      "Epoch: 180, loss: 0.111, acc: 0.758\n",
      "Epoch: 190, loss: 0.11, acc: 0.758\n",
      "Epoch: 200, loss: 0.108, acc: 0.758\n",
      "Epoch: 210, loss: 0.107, acc: 0.758\n",
      "Epoch: 220, loss: 0.106, acc: 0.758\n",
      "Epoch: 230, loss: 0.104, acc: 0.758\n",
      "Epoch: 240, loss: 0.103, acc: 0.758\n",
      "Epoch: 250, loss: 0.102, acc: 0.758\n",
      "Epoch: 260, loss: 0.101, acc: 0.758\n",
      "Epoch: 270, loss: 0.1, acc: 0.758\n",
      "Epoch: 280, loss: 0.0993, acc: 0.758\n",
      "Epoch: 290, loss: 0.0984, acc: 0.758\n",
      "Epoch: 300, loss: 0.0975, acc: 0.758\n",
      "Epoch: 310, loss: 0.0967, acc: 0.758\n",
      "Epoch: 320, loss: 0.0959, acc: 0.766\n",
      "Epoch: 330, loss: 0.0951, acc: 0.766\n",
      "Epoch: 340, loss: 0.0944, acc: 0.766\n",
      "Epoch: 350, loss: 0.0937, acc: 0.773\n",
      "Epoch: 360, loss: 0.093, acc: 0.773\n",
      "Epoch: 370, loss: 0.0923, acc: 0.773\n",
      "Epoch: 380, loss: 0.0917, acc: 0.773\n",
      "Epoch: 390, loss: 0.0911, acc: 0.773\n",
      "Epoch: 400, loss: 0.0905, acc: 0.781\n",
      "Epoch: 410, loss: 0.0899, acc: 0.781\n",
      "Epoch: 420, loss: 0.0894, acc: 0.781\n",
      "Epoch: 430, loss: 0.0888, acc: 0.781\n",
      "Epoch: 440, loss: 0.0883, acc: 0.781\n",
      "Epoch: 450, loss: 0.0878, acc: 0.781\n",
      "Epoch: 460, loss: 0.0873, acc: 0.789\n",
      "Epoch: 470, loss: 0.0868, acc: 0.789\n",
      "Epoch: 480, loss: 0.0864, acc: 0.789\n",
      "Epoch: 490, loss: 0.0859, acc: 0.789\n",
      "Epoch: 500, loss: 0.0855, acc: 0.789\n",
      "Epoch: 510, loss: 0.085, acc: 0.789\n",
      "Epoch: 520, loss: 0.0846, acc: 0.789\n",
      "Epoch: 530, loss: 0.0842, acc: 0.789\n",
      "Epoch: 540, loss: 0.0838, acc: 0.789\n",
      "Epoch: 550, loss: 0.0834, acc: 0.797\n",
      "Epoch: 560, loss: 0.083, acc: 0.797\n",
      "Epoch: 570, loss: 0.0826, acc: 0.797\n",
      "Epoch: 580, loss: 0.0822, acc: 0.797\n",
      "Epoch: 590, loss: 0.0819, acc: 0.797\n",
      "Epoch: 600, loss: 0.0815, acc: 0.797\n",
      "Epoch: 610, loss: 0.0812, acc: 0.797\n",
      "Epoch: 620, loss: 0.0809, acc: 0.797\n",
      "Epoch: 630, loss: 0.0805, acc: 0.797\n",
      "Epoch: 640, loss: 0.0802, acc: 0.797\n",
      "Epoch: 650, loss: 0.0799, acc: 0.789\n",
      "Epoch: 660, loss: 0.0796, acc: 0.789\n",
      "Epoch: 670, loss: 0.0793, acc: 0.789\n",
      "Epoch: 680, loss: 0.079, acc: 0.797\n",
      "Epoch: 690, loss: 0.0787, acc: 0.797\n",
      "Epoch: 700, loss: 0.0784, acc: 0.797\n",
      "Epoch: 710, loss: 0.0781, acc: 0.797\n",
      "Epoch: 720, loss: 0.0778, acc: 0.797\n",
      "Epoch: 730, loss: 0.0775, acc: 0.797\n",
      "Epoch: 740, loss: 0.0773, acc: 0.797\n",
      "Epoch: 750, loss: 0.077, acc: 0.797\n",
      "Epoch: 760, loss: 0.0767, acc: 0.797\n",
      "Epoch: 770, loss: 0.0765, acc: 0.797\n",
      "Epoch: 780, loss: 0.0762, acc: 0.797\n",
      "Epoch: 790, loss: 0.076, acc: 0.797\n",
      "Epoch: 800, loss: 0.0757, acc: 0.797\n",
      "Epoch: 810, loss: 0.0755, acc: 0.797\n",
      "Epoch: 820, loss: 0.0752, acc: 0.797\n",
      "Epoch: 830, loss: 0.075, acc: 0.797\n",
      "Epoch: 840, loss: 0.0748, acc: 0.797\n",
      "Epoch: 850, loss: 0.0745, acc: 0.797\n",
      "Epoch: 860, loss: 0.0743, acc: 0.797\n",
      "Epoch: 870, loss: 0.0741, acc: 0.797\n",
      "Epoch: 880, loss: 0.0739, acc: 0.797\n",
      "Epoch: 890, loss: 0.0737, acc: 0.797\n",
      "Epoch: 900, loss: 0.0735, acc: 0.797\n",
      "Epoch: 910, loss: 0.0732, acc: 0.797\n",
      "Epoch: 920, loss: 0.073, acc: 0.797\n",
      "Epoch: 930, loss: 0.0728, acc: 0.797\n",
      "Epoch: 940, loss: 0.0726, acc: 0.797\n",
      "Epoch: 950, loss: 0.0724, acc: 0.797\n",
      "Epoch: 960, loss: 0.0722, acc: 0.797\n",
      "Epoch: 970, loss: 0.072, acc: 0.797\n",
      "Epoch: 980, loss: 0.0719, acc: 0.797\n",
      "Epoch: 990, loss: 0.0717, acc: 0.797\n",
      "Epoch: 1000, loss: 0.0715, acc: 0.797\n",
      "[0 1 0 1 2 3 4 1 3 5 1 6 6 4 1 2 4 2 2 1 1 3 4 0 1 1 4 6 1 4 4]\n",
      "[0 1 0 1 2 3 4 1 3 1 1 1 1 4 1 2 4 2 2 1 1 3 4 0 1 1 4 1 1 4 4]\n",
      "lnr classifier accuracy\n",
      " 0.8709677419354839\n"
     ]
    }
   ],
   "source": [
    "random_classifier = RandomClassifier()\n",
    "random_classifier.fit(fish_ds.xtr, fish_ds.ytr)\n",
    "randow_acc = random_classifier.evaluate(fish_ds.xte, fish_ds.yte)\n",
    "print(f'Random classifier accuracy\\n {randow_acc}')\n",
    "\n",
    "knn_classifier = KNNClassifier(4)\n",
    "knn_classifier.fit(fish_ds.xtr, fish_ds.ytr)\n",
    "knn_acc = knn_classifier.evaluate(fish_ds.xte, fish_ds.yte)\n",
    "print(f'KNN classifier accuracy\\n {knn_acc}')\n",
    "\n",
    "lnr_classifier = LNRClassifier(X.shape[1], int(np.max(encoded_y) + 1))\n",
    "lnr_classifier.fit(fish_ds.xtr, fish_ds.ytr, 1000)\n",
    "lnr_acc = lnr_classifier.evaluate(fish_ds.xte, fish_ds.yte)\n",
    "print(f'lnr classifier accuracy\\n {lnr_acc}')\n"
   ]
  },
  {
   "cell_type": "markdown",
   "metadata": {},
   "source": [
    "**Note [PL]**\n",
    "Każdy model w uczeniu maszynowym ma parametry. Jedne mają ich więcej drugie mniej. Jeśli parametr wyliczany jest samodzielnie przez algorytm podczas uczenia nazywamy go po prostu parametrem. Przykładem mogą być wagi w sieciach neuronowych.\n",
    "\n",
    "Natomiast jeśli parametr podawany jest przez użytkownika, który używa algorytmu, wówczas nazywamy go hiperparametrem"
   ]
  }
 ],
 "metadata": {
  "interpreter": {
   "hash": "b5d8d3d050c10ab3dcb6699cc248e53317db60ba2858504a06e019b80fca7572"
  },
  "kernelspec": {
   "display_name": "Python 3.8.12 ('tensorflow')",
   "language": "python",
   "name": "python3"
  },
  "language_info": {
   "codemirror_mode": {
    "name": "ipython",
    "version": 3
   },
   "file_extension": ".py",
   "mimetype": "text/x-python",
   "name": "python",
   "nbconvert_exporter": "python",
   "pygments_lexer": "ipython3",
   "version": "3.8.12"
  },
  "orig_nbformat": 4
 },
 "nbformat": 4,
 "nbformat_minor": 2
}
