{
 "cells": [
  {
   "cell_type": "markdown",
   "metadata": {},
   "source": [
    "### Fish classifier\n",
    "\n",
    "Author: Łukasz Szarecki \n",
    "\n",
    "Dataset: https://www.kaggle.com/aungpyaeap/fish-market"
   ]
  },
  {
   "cell_type": "markdown",
   "metadata": {},
   "source": [
    "1. Uploading data to pandas dataframes"
   ]
  },
  {
   "cell_type": "code",
   "execution_count": 375,
   "metadata": {},
   "outputs": [
    {
     "name": "stdout",
     "output_type": "stream",
     "text": [
      "  Species  Weight  Length1  Length2  Length3   Height   Width\n",
      "0   Bream   242.0     23.2     25.4     30.0  11.5200  4.0200\n",
      "1   Bream   290.0     24.0     26.3     31.2  12.4800  4.3056\n",
      "2   Bream   340.0     23.9     26.5     31.1  12.3778  4.6961\n",
      "3   Bream   363.0     26.3     29.0     33.5  12.7300  4.4555\n",
      "4   Bream   430.0     26.5     29.0     34.0  12.4440  5.1340\n"
     ]
    }
   ],
   "source": [
    "import pandas as pd\n",
    "import numpy as np\n",
    "fish_df = pd.read_csv(\"Fish.csv\")\n",
    "print(fish_df.head())"
   ]
  },
  {
   "cell_type": "markdown",
   "metadata": {},
   "source": [
    "2. We have to mix data because there are sorted.\n",
    "3. Preapering training and testing data."
   ]
  },
  {
   "cell_type": "code",
   "execution_count": 376,
   "metadata": {},
   "outputs": [
    {
     "name": "stdout",
     "output_type": "stream",
     "text": [
      "  Species  Weight  Length1  Length2  Length3   Height   Width\n",
      "0   Bream   720.0     32.0     35.0     40.6  16.3618  6.0900\n",
      "1   Bream   340.0     23.9     26.5     31.1  12.3778  4.6961\n",
      "2   Roach   180.0     23.6     25.2     27.9   7.0866  3.9060\n",
      "3   Roach   160.0     20.5     22.5     25.3   7.0334  3.8203\n",
      "4    Pike   540.0     40.1     43.0     45.8   7.7860  5.1296\n",
      "There are 159 samples\n"
     ]
    }
   ],
   "source": [
    "#sorting dataset\n",
    "fish_df = fish_df.sample(frac=1)\n",
    "#corect indexing\n",
    "fish_df = fish_df.reset_index(drop=True)\n",
    "print(fish_df.head())\n",
    "print(f'There are {len(fish_df)} samples')"
   ]
  },
  {
   "cell_type": "markdown",
   "metadata": {},
   "source": [
    "3. Input and output data"
   ]
  },
  {
   "cell_type": "code",
   "execution_count": 377,
   "metadata": {},
   "outputs": [
    {
     "name": "stdout",
     "output_type": "stream",
     "text": [
      "(159, 6)\n",
      "(159,)\n"
     ]
    }
   ],
   "source": [
    "#input\n",
    "X = np.array(fish_df.iloc[:, 1::])\n",
    "print(X.shape)\n",
    "#output\n",
    "Y = (fish_df.iloc[:,0])\n",
    "print(Y.shape)"
   ]
  },
  {
   "cell_type": "markdown",
   "metadata": {},
   "source": [
    "### Encoder class\n",
    "\n",
    "3. Each fish will have its own identifier\n",
    "* fit() - create connection between identifiers and fish names\n",
    "* transform() - fish name (str) to id (int)\n",
    "* inverse_transform() - id (int) to fish name (str)"
   ]
  },
  {
   "cell_type": "code",
   "execution_count": 378,
   "metadata": {},
   "outputs": [],
   "source": [
    "class Encoder:\n",
    "    def __init__(self):\n",
    "        self.names = [] #to not store duplicated names\n",
    "        self.num_classes = 0 #number of all classes\n",
    "    def fit(self, y):\n",
    "        for sample in y:\n",
    "            if sample not in self.names:\n",
    "                self.names.append(sample)\n",
    "        self.num_classes = len(self.names)\n",
    "    def transform(self, y):\n",
    "        encoded_samples = np.zeros(len(y))\n",
    "        for index,sample in enumerate(y):\n",
    "            encoded_samples[index] = self.names.index(sample)\n",
    "        return encoded_samples\n",
    "    def inverse_transform(self, encoded_y):\n",
    "        samples = []\n",
    "        for sample in encoded_y:\n",
    "            samples.append(self.names[int(sample)])\n",
    "        return samples"
   ]
  },
  {
   "cell_type": "code",
   "execution_count": 379,
   "metadata": {},
   "outputs": [
    {
     "name": "stdout",
     "output_type": "stream",
     "text": [
      "['Bream', 'Roach', 'Pike', 'Perch', 'Whitefish', 'Smelt', 'Parkki']\n",
      "7\n",
      "['Pike', 'Smelt', 'Perch', 'Pike', 'Pike', 'Bream', 'Bream', 'Roach']\n"
     ]
    }
   ],
   "source": [
    "#tests\n",
    "encoder = Encoder()\n",
    "encoder.fit(Y)\n",
    "print(encoder.names)\n",
    "print(encoder.num_classes) \n",
    "\n",
    "test_list = ['Pike', 'Smelt', 'Perch', 'Pike', 'Pike', 'Bream', 'Bream', 'Roach']\n",
    "encoded_num_test = encoder.transform(test_list)\n",
    "print(encoder.inverse_transform(encoded_num_test))"
   ]
  },
  {
   "cell_type": "markdown",
   "metadata": {},
   "source": [
    "3. Encoding dataset "
   ]
  },
  {
   "cell_type": "code",
   "execution_count": 380,
   "metadata": {},
   "outputs": [
    {
     "name": "stdout",
     "output_type": "stream",
     "text": [
      "[0. 0. 1. 1. 2. 3. 4. 0. 3. 5. 3. 3. 0. 3. 3. 3. 0. 3. 3. 3. 2. 3. 3. 0.\n",
      " 3. 0. 5. 3. 0. 2. 0. 0. 3. 6. 2. 1. 1. 6. 6. 0. 0. 0. 0. 6. 3. 1. 3. 3.\n",
      " 3. 5. 3. 5. 6. 6. 3. 5. 3. 3. 1. 3. 3. 0. 5. 2. 4. 3. 0. 2. 5. 3. 3. 0.\n",
      " 3. 3. 0. 0. 3. 3. 0. 3. 2. 1. 6. 6. 0. 0. 3. 3. 2. 6. 1. 0. 1. 4. 3. 2.\n",
      " 2. 2. 1. 0. 0. 4. 3. 1. 0. 3. 2. 6. 0. 0. 1. 3. 3. 2. 2. 3. 5. 0. 2. 1.\n",
      " 0. 3. 3. 2. 3. 5. 0. 1. 3. 5. 1. 6. 0. 3. 1. 3. 3. 3. 3. 3. 0. 3. 4. 4.\n",
      " 0. 3. 0. 5. 1. 1. 3. 5. 5. 5. 1. 2. 1. 3. 3.]\n"
     ]
    }
   ],
   "source": [
    "encoder = Encoder()\n",
    "encoder.fit(Y)\n",
    "encoded_y = encoder.transform(Y)\n",
    "print(encoded_y)"
   ]
  },
  {
   "cell_type": "code",
   "execution_count": 381,
   "metadata": {},
   "outputs": [
    {
     "data": {
      "text/plain": [
       "array([ 1.43002312e-14, -1.25127023e-15, -1.60877601e-15, -1.34064667e-15,\n",
       "        3.35161668e-16, -4.80398391e-16])"
      ]
     },
     "execution_count": 381,
     "metadata": {},
     "output_type": "execute_result"
    }
   ],
   "source": [
    "qw = X - np.mean(X, axis=0)\n",
    "qw\n",
    "np.mean(qw, axis=0)"
   ]
  },
  {
   "cell_type": "markdown",
   "metadata": {},
   "source": [
    "### Feature Scaling - Normalization\n",
    "\n",
    "* test fraction - percentage of test data\n",
    "* xte - test data\n",
    "* xtr - training data\n",
    "\n",
    "xtr ->\n",
    "* mean = 0\n",
    "* standard deviation = 1"
   ]
  },
  {
   "cell_type": "code",
   "execution_count": 382,
   "metadata": {},
   "outputs": [],
   "source": [
    "class Dataset:\n",
    "    def __init__(self, x,y,test_fraction=0.05):\n",
    "        test_samples = int(test_fraction * y.size)\n",
    "        self.xte = x[:test_samples,:]   \n",
    "        self.xtr = x[test_samples:,:]   \n",
    "        self.yte = y[:test_samples]   \n",
    "        self.ytr = y[test_samples:]\n",
    "        self.mean = np.mean(self.xtr, axis=0)\n",
    "        self.std = np.std(self.xtr, axis=0)#standard deviation\n",
    "        self.xtr = self.normalize(self.xtr)\n",
    "        self.xte = self.normalize(self.xte)\n",
    "\n",
    "    def normalize(self, x):\n",
    "        x_temp = (x - self.mean)/self.std\n",
    "        return x_temp\n",
    "\n",
    "# creating dataset        \n",
    "fish_ds = Dataset(X,encoded_y,0.15)\n",
    "# fish_ds.xte \n"
   ]
  },
  {
   "cell_type": "code",
   "execution_count": 383,
   "metadata": {},
   "outputs": [
    {
     "data": {
      "text/plain": [
       "23"
      ]
     },
     "execution_count": 383,
     "metadata": {},
     "output_type": "execute_result"
    }
   ],
   "source": [
    "np.size(fish_ds.yte)\n"
   ]
  },
  {
   "cell_type": "markdown",
   "metadata": {},
   "source": [
    "### Classifiers models\n",
    "\n",
    "- Random Classifier\n",
    "- KNN - K - Nearest Neighbors Algorithm\n",
    "- Linear Regression Model "
   ]
  },
  {
   "cell_type": "code",
   "execution_count": 384,
   "metadata": {},
   "outputs": [],
   "source": [
    "class Classfier:\n",
    "    def __init__(self):\n",
    "        pass\n",
    "    def fit(self, xtr, ytr):\n",
    "        pass\n",
    "    def predict(self, x):\n",
    "        pass\n",
    "    def evaluate(self, xte, yte):\n",
    "        ypred = self.predict(xte)\n",
    "        print(yte.astype(int))\n",
    "        print(ypred)\n",
    "        acc = np.sum(ypred == yte) / yte.size #Accuracy\n",
    "        return acc\n",
    "\n",
    "# Baseline (method)\n",
    "class RandomClassifier(Classfier):\n",
    "    #expected accuracy = 1/7\n",
    "    def fit(self, xtr, ytr):\n",
    "        self.num_classes = int(np.max(ytr) + 1)\n",
    "    def predict(self, x):\n",
    "        return np.random.choice(self.num_classes, x.shape[0])\n",
    "\n",
    "class KNNClassifier(Classfier):\n",
    "    def __init__(self, k=3):   #hyperparameters\n",
    "        self.k = k\n",
    "    def fit(self, xtr, ytr):\n",
    "        self.xtr = xtr\n",
    "        self.ytr = ytr\n",
    "    def predict(self, x):\n",
    "        num_samples =  x.shape[0]\n",
    "        ypred = np.zeros(num_samples, dtype=int)\n",
    "        for i in range(num_samples):\n",
    "            distance = np.sum((self.xtr - x[i, :])**2, axis=1)\n",
    "            order = np.argsort(distance)\n",
    "            knn_label = self.ytr[order][:self.k].astype(int)\n",
    "            # print(f'knn labels {knn_label}')\n",
    "            binc = np.bincount(knn_label)\n",
    "            # print(f'Bin count {binc}')\n",
    "            # print(f'Y pred {binc.argmax()}')\n",
    "            ypred[i] = binc.argmax()    #argument which store max value\n",
    "        return ypred    \n",
    "        \n",
    "class LNRClassifier(Classfier):\n",
    "    def __init__ (self, num_inputs, num_classes, lr = 0.001):\n",
    "        self.W = np.random.randn(num_inputs, num_classes)/num_inputs\n",
    "        self.b = np.zeros(num_classes)\n",
    "        self.num_classes = num_classes\n",
    "        self.lr = lr\n",
    "    def fit(self, xtr, ytr, num_epochs=1):\n",
    "        for e in range(num_epochs):\n",
    "            z = np.dot(xtr, self.W) + self.b\n",
    "            ypred = self._softmax(z)\n",
    "            loss = self._cross_entropy_loss(ypred, ytr)\n",
    "            if e%10 == 9:\n",
    "                print(f'Epoch: {e+1}, loss: {loss:.3}, acc: {self._acc(ytr,ypred):.3}')\n",
    "            dz = ypred - self._one_hot(ytr)\n",
    "            dW = np.dot(xtr.T, dz)\n",
    "            db = np.sum(dz, axis=0)\n",
    "            self.W -= dW * self.lr\n",
    "            self.b -= db * self.lr\n",
    "    def _softmax(self, z):\n",
    "        max_z = np.max(z, axis=1, keepdims=True)\n",
    "        return np.exp(z - max_z) / np.sum(np.exp(z - max_z), axis=1, keepdims=True)\n",
    "    def _cross_entropy_loss(self, ypred, ytr):\n",
    "        ytr_one_hot = self._one_hot(ytr)\n",
    "        return np.mean(-ytr_one_hot * np.log(ypred))\n",
    "    def _one_hot(self, ytr):\n",
    "        ytr_one_hot = np.zeros((ytr.size, self.num_classes))\n",
    "        ytr_one_hot[np.arange(ytr.size), ytr.astype(int)] = 1\n",
    "        return ytr_one_hot\n",
    "    def _acc(self, ytr, ypred):\n",
    "        ypred = np.argmax(ypred, axis=1)\n",
    "        return np.mean(ytr == ypred)\n",
    "    def predict(self, x):\n",
    "        z = np.dot(x, self.W) + self.b\n",
    "        ypred = self._softmax(z)\n",
    "        ypred = np.argmax(ypred, axis=1)\n",
    "        return ypred\n",
    "\n",
    "\n",
    "\n",
    "        "
   ]
  },
  {
   "cell_type": "code",
   "execution_count": 385,
   "metadata": {},
   "outputs": [
    {
     "name": "stdout",
     "output_type": "stream",
     "text": [
      "[0 0 1 1 2 3 4 0 3 5 3 3 0 3 3 3 0 3 3 3 2 3 3]\n",
      "[0 4 6 3 3 2 1 4 1 3 6 1 1 0 6 5 3 3 5 3 1 6 4]\n",
      "Random classifier accuracy\n",
      " 0.13043478260869565\n",
      "[0 0 1 1 2 3 4 0 3 5 3 3 0 3 3 3 0 3 3 3 2 3 3]\n",
      "[0 0 3 1 2 3 3 0 3 5 3 3 0 3 1 1 0 1 1 3 2 1 3]\n",
      "KNN classifier accuracy\n",
      " 0.6956521739130435\n",
      "Epoch: 10, loss: 0.227, acc: 0.507\n",
      "Epoch: 20, loss: 0.196, acc: 0.559\n",
      "Epoch: 30, loss: 0.178, acc: 0.588\n",
      "Epoch: 40, loss: 0.165, acc: 0.625\n",
      "Epoch: 50, loss: 0.156, acc: 0.662\n",
      "Epoch: 60, loss: 0.148, acc: 0.699\n",
      "Epoch: 70, loss: 0.142, acc: 0.699\n",
      "Epoch: 80, loss: 0.137, acc: 0.699\n",
      "Epoch: 90, loss: 0.133, acc: 0.706\n",
      "Epoch: 100, loss: 0.129, acc: 0.706\n",
      "Epoch: 110, loss: 0.126, acc: 0.706\n",
      "Epoch: 120, loss: 0.123, acc: 0.713\n",
      "Epoch: 130, loss: 0.12, acc: 0.713\n",
      "Epoch: 140, loss: 0.118, acc: 0.721\n",
      "Epoch: 150, loss: 0.116, acc: 0.728\n",
      "Epoch: 160, loss: 0.114, acc: 0.735\n",
      "Epoch: 170, loss: 0.112, acc: 0.75\n",
      "Epoch: 180, loss: 0.11, acc: 0.75\n",
      "Epoch: 190, loss: 0.109, acc: 0.75\n",
      "Epoch: 200, loss: 0.107, acc: 0.765\n",
      "Epoch: 210, loss: 0.106, acc: 0.765\n",
      "Epoch: 220, loss: 0.104, acc: 0.772\n",
      "Epoch: 230, loss: 0.103, acc: 0.779\n",
      "Epoch: 240, loss: 0.102, acc: 0.787\n",
      "Epoch: 250, loss: 0.101, acc: 0.794\n",
      "Epoch: 260, loss: 0.0997, acc: 0.794\n",
      "Epoch: 270, loss: 0.0987, acc: 0.801\n",
      "Epoch: 280, loss: 0.0977, acc: 0.801\n",
      "Epoch: 290, loss: 0.0968, acc: 0.809\n",
      "Epoch: 300, loss: 0.0959, acc: 0.809\n",
      "Epoch: 310, loss: 0.095, acc: 0.809\n",
      "Epoch: 320, loss: 0.0942, acc: 0.809\n",
      "Epoch: 330, loss: 0.0934, acc: 0.809\n",
      "Epoch: 340, loss: 0.0926, acc: 0.809\n",
      "Epoch: 350, loss: 0.0919, acc: 0.809\n",
      "Epoch: 360, loss: 0.0911, acc: 0.809\n",
      "Epoch: 370, loss: 0.0904, acc: 0.809\n",
      "Epoch: 380, loss: 0.0898, acc: 0.809\n",
      "Epoch: 390, loss: 0.0891, acc: 0.809\n",
      "Epoch: 400, loss: 0.0885, acc: 0.809\n",
      "Epoch: 410, loss: 0.0879, acc: 0.809\n",
      "Epoch: 420, loss: 0.0873, acc: 0.809\n",
      "Epoch: 430, loss: 0.0867, acc: 0.809\n",
      "Epoch: 440, loss: 0.0862, acc: 0.809\n",
      "Epoch: 450, loss: 0.0856, acc: 0.809\n",
      "Epoch: 460, loss: 0.0851, acc: 0.809\n",
      "Epoch: 470, loss: 0.0846, acc: 0.809\n",
      "Epoch: 480, loss: 0.0841, acc: 0.809\n",
      "Epoch: 490, loss: 0.0836, acc: 0.809\n",
      "Epoch: 500, loss: 0.0832, acc: 0.809\n",
      "Epoch: 510, loss: 0.0827, acc: 0.809\n",
      "Epoch: 520, loss: 0.0823, acc: 0.809\n",
      "Epoch: 530, loss: 0.0818, acc: 0.809\n",
      "Epoch: 540, loss: 0.0814, acc: 0.809\n",
      "Epoch: 550, loss: 0.081, acc: 0.809\n",
      "Epoch: 560, loss: 0.0806, acc: 0.809\n",
      "Epoch: 570, loss: 0.0802, acc: 0.809\n",
      "Epoch: 580, loss: 0.0798, acc: 0.809\n",
      "Epoch: 590, loss: 0.0794, acc: 0.809\n",
      "Epoch: 600, loss: 0.0791, acc: 0.809\n",
      "Epoch: 610, loss: 0.0787, acc: 0.809\n",
      "Epoch: 620, loss: 0.0783, acc: 0.809\n",
      "Epoch: 630, loss: 0.078, acc: 0.809\n",
      "Epoch: 640, loss: 0.0777, acc: 0.809\n",
      "Epoch: 650, loss: 0.0773, acc: 0.809\n",
      "Epoch: 660, loss: 0.077, acc: 0.809\n",
      "Epoch: 670, loss: 0.0767, acc: 0.809\n",
      "Epoch: 680, loss: 0.0764, acc: 0.809\n",
      "Epoch: 690, loss: 0.0761, acc: 0.809\n",
      "Epoch: 700, loss: 0.0758, acc: 0.809\n",
      "Epoch: 710, loss: 0.0755, acc: 0.809\n",
      "Epoch: 720, loss: 0.0752, acc: 0.809\n",
      "Epoch: 730, loss: 0.0749, acc: 0.809\n",
      "Epoch: 740, loss: 0.0746, acc: 0.809\n",
      "Epoch: 750, loss: 0.0743, acc: 0.809\n",
      "Epoch: 760, loss: 0.074, acc: 0.809\n",
      "Epoch: 770, loss: 0.0738, acc: 0.816\n",
      "Epoch: 780, loss: 0.0735, acc: 0.824\n",
      "Epoch: 790, loss: 0.0733, acc: 0.824\n",
      "Epoch: 800, loss: 0.073, acc: 0.824\n",
      "Epoch: 810, loss: 0.0728, acc: 0.824\n",
      "Epoch: 820, loss: 0.0725, acc: 0.824\n",
      "Epoch: 830, loss: 0.0723, acc: 0.824\n",
      "Epoch: 840, loss: 0.072, acc: 0.824\n",
      "Epoch: 850, loss: 0.0718, acc: 0.824\n",
      "Epoch: 860, loss: 0.0716, acc: 0.824\n",
      "Epoch: 870, loss: 0.0713, acc: 0.824\n",
      "Epoch: 880, loss: 0.0711, acc: 0.824\n",
      "Epoch: 890, loss: 0.0709, acc: 0.824\n",
      "Epoch: 900, loss: 0.0707, acc: 0.824\n",
      "Epoch: 910, loss: 0.0705, acc: 0.824\n",
      "Epoch: 920, loss: 0.0702, acc: 0.824\n",
      "Epoch: 930, loss: 0.07, acc: 0.824\n",
      "Epoch: 940, loss: 0.0698, acc: 0.824\n",
      "Epoch: 950, loss: 0.0696, acc: 0.831\n",
      "Epoch: 960, loss: 0.0694, acc: 0.831\n",
      "Epoch: 970, loss: 0.0692, acc: 0.831\n",
      "Epoch: 980, loss: 0.069, acc: 0.846\n",
      "Epoch: 990, loss: 0.0688, acc: 0.846\n",
      "Epoch: 1000, loss: 0.0687, acc: 0.846\n",
      "[0 0 1 1 2 3 4 0 3 5 3 3 0 3 3 3 0 3 3 3 2 3 3]\n",
      "[0 0 3 3 2 3 3 0 3 5 3 3 0 3 3 3 0 3 3 3 2 3 3]\n",
      "lnr classifier accuracy\n",
      " 0.8695652173913043\n"
     ]
    }
   ],
   "source": [
    "random_classifier = RandomClassifier()\n",
    "random_classifier.fit(fish_ds.xtr, fish_ds.ytr)\n",
    "randow_acc = random_classifier.evaluate(fish_ds.xte, fish_ds.yte)\n",
    "print(f'Random classifier accuracy\\n {randow_acc}')\n",
    "\n",
    "knn_classifier = KNNClassifier(4)\n",
    "knn_classifier.fit(fish_ds.xtr, fish_ds.ytr)\n",
    "knn_acc = knn_classifier.evaluate(fish_ds.xte, fish_ds.yte)\n",
    "print(f'KNN classifier accuracy\\n {knn_acc}')\n",
    "\n",
    "lnr_classifier = LNRClassifier(X.shape[1], int(np.max(encoded_y) + 1))\n",
    "lnr_classifier.fit(fish_ds.xtr, fish_ds.ytr, 1000)\n",
    "lnr_acc = lnr_classifier.evaluate(fish_ds.xte, fish_ds.yte)\n",
    "print(f'lnr classifier accuracy\\n {lnr_acc}')\n"
   ]
  },
  {
   "cell_type": "markdown",
   "metadata": {},
   "source": [
    "**Note [PL]**\n",
    "Każdy model w uczeniu maszynowym ma parametry. Jedne mają ich więcej drugie mniej. Jeśli parametr wyliczany jest samodzielnie przez algorytm podczas uczenia nazywamy go po prostu parametrem. Przykładem mogą być wagi w sieciach neuronowych.\n",
    "\n",
    "Natomiast jeśli parametr podawany jest przez użytkownika, który używa algorytmu, wówczas nazywamy go hiperparametrem"
   ]
  }
 ],
 "metadata": {
  "interpreter": {
   "hash": "b5d8d3d050c10ab3dcb6699cc248e53317db60ba2858504a06e019b80fca7572"
  },
  "kernelspec": {
   "display_name": "Python 3.8.12 ('tensorflow')",
   "language": "python",
   "name": "python3"
  },
  "language_info": {
   "codemirror_mode": {
    "name": "ipython",
    "version": 3
   },
   "file_extension": ".py",
   "mimetype": "text/x-python",
   "name": "python",
   "nbconvert_exporter": "python",
   "pygments_lexer": "ipython3",
   "version": "3.8.12"
  },
  "orig_nbformat": 4
 },
 "nbformat": 4,
 "nbformat_minor": 2
}
