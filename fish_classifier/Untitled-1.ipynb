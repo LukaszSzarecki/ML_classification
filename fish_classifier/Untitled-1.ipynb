{
 "cells": [
  {
   "cell_type": "markdown",
   "metadata": {},
   "source": [
    "### Fish classifier\n",
    "\n",
    "Author: Łukasz Szarecki \n",
    "\n",
    "Dataset: https://www.kaggle.com/aungpyaeap/fish-market"
   ]
  },
  {
   "cell_type": "markdown",
   "metadata": {},
   "source": [
    "1. Uploading data to pandas dataframes"
   ]
  },
  {
   "cell_type": "code",
   "execution_count": 15,
   "metadata": {},
   "outputs": [
    {
     "name": "stdout",
     "output_type": "stream",
     "text": [
      "  Species  Weight  Length1  Length2  Length3   Height   Width\n",
      "0   Bream   242.0     23.2     25.4     30.0  11.5200  4.0200\n",
      "1   Bream   290.0     24.0     26.3     31.2  12.4800  4.3056\n",
      "2   Bream   340.0     23.9     26.5     31.1  12.3778  4.6961\n",
      "3   Bream   363.0     26.3     29.0     33.5  12.7300  4.4555\n",
      "4   Bream   430.0     26.5     29.0     34.0  12.4440  5.1340\n"
     ]
    }
   ],
   "source": [
    "import pandas as pd\n",
    "import numpy as np\n",
    "fish_df = pd.read_csv(\"Fish.csv\")\n",
    "print(fish_df.head())"
   ]
  },
  {
   "cell_type": "markdown",
   "metadata": {},
   "source": [
    "2. We have to mix data because there are sorted.\n",
    "3. Preapering training and testing data."
   ]
  },
  {
   "cell_type": "code",
   "execution_count": 16,
   "metadata": {},
   "outputs": [
    {
     "name": "stdout",
     "output_type": "stream",
     "text": [
      "  Species  Weight  Length1  Length2  Length3  Height   Width\n",
      "0   Perch    40.0     13.8     15.0     16.0  3.8240  2.4320\n",
      "1   Roach    40.0     12.9     14.1     16.2  4.1472  2.2680\n",
      "2    Pike   456.0     40.0     42.5     45.5  7.2800  4.3225\n",
      "3   Smelt     7.5     10.0     10.5     11.6  1.9720  1.1600\n",
      "4   Perch   120.0     20.0     22.0     23.5  5.6400  3.5250\n",
      "There are 159 samples\n"
     ]
    }
   ],
   "source": [
    "#sorting dataset\n",
    "fish_df = fish_df.sample(frac=1)\n",
    "#corect indexing\n",
    "fish_df = fish_df.reset_index(drop=True)\n",
    "print(fish_df.head())\n",
    "print(f'There are {len(fish_df)} samples')"
   ]
  },
  {
   "cell_type": "markdown",
   "metadata": {},
   "source": [
    "3. Input and output data"
   ]
  },
  {
   "cell_type": "code",
   "execution_count": 25,
   "metadata": {},
   "outputs": [
    {
     "name": "stdout",
     "output_type": "stream",
     "text": [
      "(159, 6)\n",
      "(159,)\n"
     ]
    }
   ],
   "source": [
    "#input\n",
    "X = np.array(fish_df.iloc[:, 1::])\n",
    "print(X.shape)\n",
    "#output\n",
    "Y = (fish_df.iloc[:,0])\n",
    "print(Y.shape)"
   ]
  },
  {
   "cell_type": "markdown",
   "metadata": {},
   "source": [
    "### Encoder class\n",
    "\n",
    "3. Each fish will have its own identifier\n",
    "* fit() - create connection between identifiers and fish names\n",
    "* transform() - fish name (str) to id (int)\n",
    "* inverse_transform() - id (int) to fish name (str)"
   ]
  },
  {
   "cell_type": "code",
   "execution_count": 46,
   "metadata": {},
   "outputs": [],
   "source": [
    "class Encoder():\n",
    "    def __init__(self):\n",
    "        self.names = [] #to not store duplicated names\n",
    "        self.num_classes = 0 #number of all classes\n",
    "    def fit(self, y):\n",
    "        for sample in y:\n",
    "            if sample not in self.names:\n",
    "                self.names.append(sample)\n",
    "        self.num_classes = len(self.names)\n",
    "    def transform(self, y):\n",
    "        encoded_samples = np.zeros(len(y))\n",
    "        for index,sample in enumerate(y):\n",
    "            encoded_samples[index] = self.names.index(sample)\n",
    "        return encoded_samples\n",
    "    def inverse_transform(self, encoded_y):\n",
    "        samples = []\n",
    "        for sample in encoded_y:\n",
    "            samples.append(self.names[int(sample)])\n",
    "        return samples"
   ]
  },
  {
   "cell_type": "code",
   "execution_count": 48,
   "metadata": {},
   "outputs": [
    {
     "name": "stdout",
     "output_type": "stream",
     "text": [
      "7\n",
      "['Pike', 'Smelt', 'Perch', 'Pike', 'Pike', 'Bream', 'Bream', 'Roach']\n"
     ]
    }
   ],
   "source": [
    "encoder = Encoder()\n",
    "encoder.fit(Y)\n",
    "# print(encoder.names)\n",
    "print(encoder.num_classes) \n",
    "\n",
    "test_list = ['Pike', 'Smelt', 'Perch', 'Pike', 'Pike', 'Bream', 'Bream', 'Roach']\n",
    "encoded_num_test = encoder.transform(test_list)\n",
    "print(encoder.inverse_transform(encoded_num_test))"
   ]
  }
 ],
 "metadata": {
  "interpreter": {
   "hash": "b5d8d3d050c10ab3dcb6699cc248e53317db60ba2858504a06e019b80fca7572"
  },
  "kernelspec": {
   "display_name": "Python 3.8.12 ('tensorflow')",
   "language": "python",
   "name": "python3"
  },
  "language_info": {
   "codemirror_mode": {
    "name": "ipython",
    "version": 3
   },
   "file_extension": ".py",
   "mimetype": "text/x-python",
   "name": "python",
   "nbconvert_exporter": "python",
   "pygments_lexer": "ipython3",
   "version": "3.8.12"
  },
  "orig_nbformat": 4
 },
 "nbformat": 4,
 "nbformat_minor": 2
}
